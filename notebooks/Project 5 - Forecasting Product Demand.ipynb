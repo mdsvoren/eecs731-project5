{
 "cells": [
  {
   "cell_type": "markdown",
   "metadata": {},
   "source": [
    "## Project 5 - Forecasting Product Demand\n",
    "\n",
    "### 1) Data cleaning and Feature Engineering\n",
    "In this notebook, we will look at historical data of various product's sales by date. Also included in this dataset are the warehouse the product is shipped from and the category for a specific product. The first step is to read in the data."
   ]
  },
  {
   "cell_type": "code",
   "execution_count": 227,
   "metadata": {},
   "outputs": [
    {
     "name": "stdout",
     "output_type": "stream",
     "text": [
      "   Product_Code Warehouse Product_Category       Date Order_Demand\n",
      "0  Product_0993    Whse_J     Category_028  2012/7/27         100 \n",
      "1  Product_0979    Whse_J     Category_028  2012/1/19         500 \n",
      "2  Product_0979    Whse_J     Category_028   2012/2/3         500 \n",
      "3  Product_0979    Whse_J     Category_028   2012/2/9         500 \n",
      "4  Product_0979    Whse_J     Category_028   2012/3/2         500 \n"
     ]
    }
   ],
   "source": [
    "import numpy as np\n",
    "import pandas as pd\n",
    "\n",
    "original = pd.read_csv(\"../data/Historical Product Demand.csv\")\n",
    "print(original.head(5))\n",
    "\n",
    "#we can drop the rows that don't have a date- these happen to be the only rows with NaN. It's okay to just drop them because \n",
    "#they represent only ~1% of the data set and the associated data is useless without the date\n",
    "original.dropna(inplace=True)\n"
   ]
  },
  {
   "cell_type": "code",
   "execution_count": 228,
   "metadata": {},
   "outputs": [
    {
     "data": {
      "text/html": [
       "<div>\n",
       "<style scoped>\n",
       "    .dataframe tbody tr th:only-of-type {\n",
       "        vertical-align: middle;\n",
       "    }\n",
       "\n",
       "    .dataframe tbody tr th {\n",
       "        vertical-align: top;\n",
       "    }\n",
       "\n",
       "    .dataframe thead th {\n",
       "        text-align: right;\n",
       "    }\n",
       "</style>\n",
       "<table border=\"1\" class=\"dataframe\">\n",
       "  <thead>\n",
       "    <tr style=\"text-align: right;\">\n",
       "      <th></th>\n",
       "      <th>Date</th>\n",
       "      <th>Product_Code</th>\n",
       "      <th>Warehouse</th>\n",
       "      <th>Product_Category</th>\n",
       "      <th>Order_Demand</th>\n",
       "    </tr>\n",
       "  </thead>\n",
       "  <tbody>\n",
       "    <tr>\n",
       "      <th>0</th>\n",
       "      <td>2011-01-08</td>\n",
       "      <td>Product_0965</td>\n",
       "      <td>Whse_A</td>\n",
       "      <td>Category_006</td>\n",
       "      <td>2</td>\n",
       "    </tr>\n",
       "    <tr>\n",
       "      <th>1</th>\n",
       "      <td>2011-05-31</td>\n",
       "      <td>Product_1724</td>\n",
       "      <td>Whse_A</td>\n",
       "      <td>Category_003</td>\n",
       "      <td>108</td>\n",
       "    </tr>\n",
       "    <tr>\n",
       "      <th>2</th>\n",
       "      <td>2011-06-24</td>\n",
       "      <td>Product_1521</td>\n",
       "      <td>Whse_S</td>\n",
       "      <td>Category_019</td>\n",
       "      <td>92000</td>\n",
       "    </tr>\n",
       "    <tr>\n",
       "      <th>3</th>\n",
       "      <td>2011-09-02</td>\n",
       "      <td>Product_1507</td>\n",
       "      <td>Whse_C</td>\n",
       "      <td>Category_019</td>\n",
       "      <td>1250</td>\n",
       "    </tr>\n",
       "    <tr>\n",
       "      <th>4</th>\n",
       "      <td>2011-09-27</td>\n",
       "      <td>Product_0608</td>\n",
       "      <td>Whse_C</td>\n",
       "      <td>Category_001</td>\n",
       "      <td>5</td>\n",
       "    </tr>\n",
       "  </tbody>\n",
       "</table>\n",
       "</div>"
      ],
      "text/plain": [
       "        Date  Product_Code Warehouse Product_Category  Order_Demand\n",
       "0 2011-01-08  Product_0965    Whse_A     Category_006             2\n",
       "1 2011-05-31  Product_1724    Whse_A     Category_003           108\n",
       "2 2011-06-24  Product_1521    Whse_S     Category_019         92000\n",
       "3 2011-09-02  Product_1507    Whse_C     Category_019          1250\n",
       "4 2011-09-27  Product_0608    Whse_C     Category_001             5"
      ]
     },
     "execution_count": 228,
     "metadata": {},
     "output_type": "execute_result"
    }
   ],
   "source": [
    "#change the type of the input data to be accessible by the models\n",
    "\n",
    "original['Date'] = pd.to_datetime(original['Date']) \n",
    "original.sort_values(['Date'], inplace=True)\n",
    "\n",
    "original['Order_Demand'] = original['Order_Demand'].replace('[(]', '-', regex=True).astype('str')\n",
    "original['Order_Demand'] = original['Order_Demand'].replace('[)]', '', regex=True).astype('int')   \n",
    "\n",
    "original = original.groupby(['Date', 'Product_Code', 'Warehouse', 'Product_Category'])['Order_Demand'].sum().reset_index()\n",
    "\n",
    "original.head()"
   ]
  },
  {
   "cell_type": "code",
   "execution_count": 229,
   "metadata": {},
   "outputs": [
    {
     "data": {
      "text/html": [
       "<div>\n",
       "<style scoped>\n",
       "    .dataframe tbody tr th:only-of-type {\n",
       "        vertical-align: middle;\n",
       "    }\n",
       "\n",
       "    .dataframe tbody tr th {\n",
       "        vertical-align: top;\n",
       "    }\n",
       "\n",
       "    .dataframe thead th {\n",
       "        text-align: right;\n",
       "    }\n",
       "</style>\n",
       "<table border=\"1\" class=\"dataframe\">\n",
       "  <thead>\n",
       "    <tr style=\"text-align: right;\">\n",
       "      <th></th>\n",
       "      <th>Date</th>\n",
       "      <th>Product_Category</th>\n",
       "      <th>Order_Demand</th>\n",
       "    </tr>\n",
       "  </thead>\n",
       "  <tbody>\n",
       "    <tr>\n",
       "      <th>0</th>\n",
       "      <td>2011-01-08</td>\n",
       "      <td>Category_006</td>\n",
       "      <td>2</td>\n",
       "    </tr>\n",
       "    <tr>\n",
       "      <th>1</th>\n",
       "      <td>2011-05-31</td>\n",
       "      <td>Category_003</td>\n",
       "      <td>108</td>\n",
       "    </tr>\n",
       "    <tr>\n",
       "      <th>2</th>\n",
       "      <td>2011-06-24</td>\n",
       "      <td>Category_019</td>\n",
       "      <td>92000</td>\n",
       "    </tr>\n",
       "    <tr>\n",
       "      <th>3</th>\n",
       "      <td>2011-09-02</td>\n",
       "      <td>Category_019</td>\n",
       "      <td>1250</td>\n",
       "    </tr>\n",
       "    <tr>\n",
       "      <th>4</th>\n",
       "      <td>2011-09-27</td>\n",
       "      <td>Category_001</td>\n",
       "      <td>28</td>\n",
       "    </tr>\n",
       "  </tbody>\n",
       "</table>\n",
       "</div>"
      ],
      "text/plain": [
       "        Date Product_Category  Order_Demand\n",
       "0 2011-01-08     Category_006             2\n",
       "1 2011-05-31     Category_003           108\n",
       "2 2011-06-24     Category_019         92000\n",
       "3 2011-09-02     Category_019          1250\n",
       "4 2011-09-27     Category_001            28"
      ]
     },
     "execution_count": 229,
     "metadata": {},
     "output_type": "execute_result"
    }
   ],
   "source": [
    "#group by product category\n",
    "byProdCat = original.groupby(['Date', 'Product_Category'])['Order_Demand'].sum().reset_index()\n",
    "byProdCat.head()"
   ]
  },
  {
   "cell_type": "markdown",
   "metadata": {},
   "source": [
    "Next we want to do some exploratory analysis on the data. Since the goal is to do a demand forecast, it would be useful to examine the sales over time  by category. However, there are over 2000 products and over 30 categories, so we will just look at an arbitrary two of them. "
   ]
  },
  {
   "cell_type": "code",
   "execution_count": 230,
   "metadata": {},
   "outputs": [
    {
     "data": {
      "image/png": "[encoded data removed]",
      "text/plain": [
       "<Figure size 432x288 with 1 Axes>"
      ]
     },
     "metadata": {
      "needs_background": "light"
     },
     "output_type": "display_data"
    }
   ],
   "source": [
    "import matplotlib\n",
    "import matplotlib.pyplot as plt\n",
    "import numpy as np\n",
    "\n",
    "from pandas.plotting import register_matplotlib_converters\n",
    "register_matplotlib_converters()\n",
    "\n",
    "isCat5 = byProdCat['Product_Category'] == 'Category_005'\n",
    "cat5 = byProdCat[isCat5]\n",
    "cat5X = cat5['Date']\n",
    "cat5Y = cat5['Order_Demand']\n",
    "\n",
    "# Data for plotting\n",
    "\n",
    "fig, ax = plt.subplots()\n",
    "ax.plot(cat5X, cat5Y)\n",
    "\n",
    "ax.set(xlabel='Date', ylabel='Total Units Sold',\n",
    "       title='Category 5 Orders')\n",
    "ax.grid()\n",
    "plt.show()"
   ]
  },
  {
   "cell_type": "code",
   "execution_count": 231,
   "metadata": {},
   "outputs": [
    {
     "data": {
      "image/png": "[encoded data removed]",
      "text/plain": [
       "<Figure size 432x288 with 1 Axes>"
      ]
     },
     "metadata": {
      "needs_background": "light"
     },
     "output_type": "display_data"
    }
   ],
   "source": [
    "isCat10 = byProdCat['Product_Category'] == 'Category_010'\n",
    "cat10 = byProdCat[isCat10]\n",
    "cat10X = cat10['Date']\n",
    "cat10Y = cat10['Order_Demand']\n",
    "\n",
    "# Data for plotting\n",
    "\n",
    "fig, ax = plt.subplots()\n",
    "ax.plot(cat10X, cat10Y)\n",
    "\n",
    "ax.set(xlabel='Date', ylabel='Total Units Sold',\n",
    "       title='Category 10 Orders')\n",
    "ax.grid()\n",
    "plt.show()"
   ]
  },
  {
   "cell_type": "markdown",
   "metadata": {},
   "source": [
    "It appears that there is strong fluctation in Category 10, with a severe outlier in 2012. However, category 5 has much more consistent order quantity, with several outliers throughout. A takeaway from these charts is that it could be useful to cut out the extreme outliers, say any data 2 standard deviations away from the mean. However, we won't do that here to remain in the scope of the project time-wise.\n",
    "\n",
    "What we do need to do is modify the date, as the models can not train with date times. Therefore, we will break the date up into three columns: day, month, and year. Also, we want to include a days since first date. We also need to convert product category, product code, and warehouse to numeric values. We can use regular expressions to change the product category and product codes to ints and label encoding to modify the warehouse values."
   ]
  },
  {
   "cell_type": "code",
   "execution_count": 232,
   "metadata": {
    "scrolled": false
   },
   "outputs": [
    {
     "data": {
      "text/html": [
       "<div>\n",
       "<style scoped>\n",
       "    .dataframe tbody tr th:only-of-type {\n",
       "        vertical-align: middle;\n",
       "    }\n",
       "\n",
       "    .dataframe tbody tr th {\n",
       "        vertical-align: top;\n",
       "    }\n",
       "\n",
       "    .dataframe thead th {\n",
       "        text-align: right;\n",
       "    }\n",
       "</style>\n",
       "<table border=\"1\" class=\"dataframe\">\n",
       "  <thead>\n",
       "    <tr style=\"text-align: right;\">\n",
       "      <th></th>\n",
       "      <th>Product_Code</th>\n",
       "      <th>Warehouse</th>\n",
       "      <th>Product_Category</th>\n",
       "      <th>Order_Demand</th>\n",
       "      <th>year</th>\n",
       "      <th>month</th>\n",
       "      <th>day</th>\n",
       "      <th>daysSinceFirst</th>\n",
       "    </tr>\n",
       "    <tr>\n",
       "      <th>Date</th>\n",
       "      <th></th>\n",
       "      <th></th>\n",
       "      <th></th>\n",
       "      <th></th>\n",
       "      <th></th>\n",
       "      <th></th>\n",
       "      <th></th>\n",
       "      <th></th>\n",
       "    </tr>\n",
       "  </thead>\n",
       "  <tbody>\n",
       "    <tr>\n",
       "      <th>2011-01-08</th>\n",
       "      <td>965</td>\n",
       "      <td>0</td>\n",
       "      <td>6</td>\n",
       "      <td>2</td>\n",
       "      <td>2011</td>\n",
       "      <td>1</td>\n",
       "      <td>8</td>\n",
       "      <td>0</td>\n",
       "    </tr>\n",
       "    <tr>\n",
       "      <th>2011-05-31</th>\n",
       "      <td>1724</td>\n",
       "      <td>0</td>\n",
       "      <td>3</td>\n",
       "      <td>108</td>\n",
       "      <td>2011</td>\n",
       "      <td>5</td>\n",
       "      <td>31</td>\n",
       "      <td>143</td>\n",
       "    </tr>\n",
       "    <tr>\n",
       "      <th>2011-06-24</th>\n",
       "      <td>1521</td>\n",
       "      <td>3</td>\n",
       "      <td>19</td>\n",
       "      <td>92000</td>\n",
       "      <td>2011</td>\n",
       "      <td>6</td>\n",
       "      <td>24</td>\n",
       "      <td>167</td>\n",
       "    </tr>\n",
       "    <tr>\n",
       "      <th>2011-09-02</th>\n",
       "      <td>1507</td>\n",
       "      <td>1</td>\n",
       "      <td>19</td>\n",
       "      <td>1250</td>\n",
       "      <td>2011</td>\n",
       "      <td>9</td>\n",
       "      <td>2</td>\n",
       "      <td>237</td>\n",
       "    </tr>\n",
       "    <tr>\n",
       "      <th>2011-09-27</th>\n",
       "      <td>608</td>\n",
       "      <td>1</td>\n",
       "      <td>1</td>\n",
       "      <td>5</td>\n",
       "      <td>2011</td>\n",
       "      <td>9</td>\n",
       "      <td>27</td>\n",
       "      <td>262</td>\n",
       "    </tr>\n",
       "  </tbody>\n",
       "</table>\n",
       "</div>"
      ],
      "text/plain": [
       "            Product_Code  Warehouse  Product_Category  Order_Demand  year  \\\n",
       "Date                                                                        \n",
       "2011-01-08           965          0                 6             2  2011   \n",
       "2011-05-31          1724          0                 3           108  2011   \n",
       "2011-06-24          1521          3                19         92000  2011   \n",
       "2011-09-02          1507          1                19          1250  2011   \n",
       "2011-09-27           608          1                 1             5  2011   \n",
       "\n",
       "            month  day  daysSinceFirst  \n",
       "Date                                    \n",
       "2011-01-08      1    8               0  \n",
       "2011-05-31      5   31             143  \n",
       "2011-06-24      6   24             167  \n",
       "2011-09-02      9    2             237  \n",
       "2011-09-27      9   27             262  "
      ]
     },
     "execution_count": 232,
     "metadata": {},
     "output_type": "execute_result"
    }
   ],
   "source": [
    "import datetime\n",
    "from sklearn import preprocessing\n",
    "\n",
    "original['year'] = pd.DatetimeIndex(original['Date']).year\n",
    "original['month'] = pd.DatetimeIndex(original['Date']).month\n",
    "original['day'] = pd.DatetimeIndex(original['Date']).day\n",
    "\n",
    "date = original.iloc[0]['Date']\n",
    "original['daysSinceFirst'] = (original['Date'] - date).dt.days\n",
    "original['Product_Code'] = original['Product_Code'].replace('[Product_]', '', regex=True).astype('int') \n",
    "original['Product_Category'] = original['Product_Category'].replace('[Category_]', '', regex=True).astype('int')  \n",
    "\n",
    "# Create a label (category) encoder object\n",
    "le = preprocessing.LabelEncoder()\n",
    "# Fit the encoder to the pandas column\n",
    "le.fit(original['Warehouse'])\n",
    "original['Warehouse'] = le.transform(original['Warehouse'])\n",
    "\n",
    "\n",
    "#index with timestamp\n",
    "timeIndex = original.set_index('Date')\n",
    "timeIndex.drop(columns=['year', 'month', 'day'], inplace = True)\n",
    "original = original.set_index('Date')\n",
    "original.head()"
   ]
  },
  {
   "cell_type": "markdown",
   "metadata": {},
   "source": [
    "Split data up for training / testing. Take the first 5 years of dates for training, then use the final year for testing. We want to test the last dates in the dataset because our forecasting would be for the future, rather than being interspersed with known values. The reason we aren't doing 80/20 here is because I want to test the seasonality capability. If we only had test data for June - Dec, we woulnd't be able to test how the model does in the new year. The difficulty here is that we are splitting the entire data set, rather than splitting at a product level. What I mean is that we could potentially have a new product that starts shipping at the end of our test data that the model has never seen before. This issue will be addressed later when we build a model for a specific product.\n",
    "\n",
    "It should be noted that I have a dataset with the date only included in the index (timeIndex) and the other with date as the index as well as the date broken up into various other feature columns. I want to see if there's a difference in the outcome.\n",
    "\n",
    "Since the date range is Jan 2011 - Jan 2017, we will use any dates starting in 2016 as test data."
   ]
  },
  {
   "cell_type": "code",
   "execution_count": 233,
   "metadata": {},
   "outputs": [],
   "source": [
    "is_post2016 = original['year'] >= 2016\n",
    "isNot_post2016 = original['year'] < 2016\n",
    "\n",
    "timeFeatures_Train = original[is_post2016]\n",
    "timeFeatures_Test = original[isNot_post2016]\n",
    "\n",
    "timeIndex_Train = timeIndex[:'2015-12-31']\n",
    "timeIndex_Test = timeIndex['2016-01-01':]"
   ]
  },
  {
   "cell_type": "code",
   "execution_count": 234,
   "metadata": {},
   "outputs": [],
   "source": [
    "#split training data into X and Y\n",
    "timeFeatures_train_Y = timeFeatures_Train['Order_Demand']\n",
    "timeFeatures_train_X = timeFeatures_Train[['year', 'month', 'day', 'daysSinceFirst', 'Product_Category', 'Warehouse', 'Product_Code']]\n",
    "#split testing data into X and Y\n",
    "timeFeatures_test_Y = timeFeatures_Test['Order_Demand']\n",
    "timeFeatures_test_X = timeFeatures_Test[['year', 'month', 'day', 'daysSinceFirst', 'Product_Category', 'Warehouse', 'Product_Code']]\n",
    "\n",
    "#split training data into X and Y\n",
    "timeIndex_train_Y = timeIndex_Train['Order_Demand']\n",
    "timeIndex_train_X = timeIndex_Train[['Product_Category', 'Warehouse', 'Product_Code']]\n",
    "#split testing data into X and Y\n",
    "timeIndex_test_Y = timeIndex_Test['Order_Demand']\n",
    "timeIndex_test_X = timeIndex_Test[['Product_Category', 'Warehouse', 'Product_Code']]"
   ]
  },
  {
   "cell_type": "markdown",
   "metadata": {},
   "source": [
    "### 2) Build Models\n",
    "\n",
    "First we start with a GradientBoostingRegressor. This model is essentially a collection of weak learners that when combined, make a strong learning model. The reason I'm using it is because it's generally fast and very accurate. Observe that for each, we test with a different learning rate. The learning rate reduces the contribution of each tree in the model."
   ]
  },
  {
   "cell_type": "code",
   "execution_count": 235,
   "metadata": {
    "scrolled": true
   },
   "outputs": [
    {
     "name": "stdout",
     "output_type": "stream",
     "text": [
      "Learning rate:  0.05\n",
      "Accuracy score (training): 0.331\n",
      "Accuracy score (validation): 0.285\n",
      " \n",
      "Learning rate:  0.075\n",
      "Accuracy score (training): 0.370\n",
      "Accuracy score (validation): 0.316\n",
      " \n",
      "Learning rate:  0.1\n",
      "Accuracy score (training): 0.386\n",
      "Accuracy score (validation): 0.327\n",
      " \n",
      "Learning rate:  0.25\n",
      "Accuracy score (training): 0.438\n",
      "Accuracy score (validation): 0.351\n",
      " \n",
      "Learning rate:  0.5\n",
      "Accuracy score (training): 0.464\n",
      "Accuracy score (validation): 0.234\n",
      " \n",
      "Learning rate:  0.75\n",
      "Accuracy score (training): 0.470\n",
      "Accuracy score (validation): 0.137\n",
      " \n",
      "Learning rate:  1\n",
      "Accuracy score (training): 0.475\n",
      "Accuracy score (validation): -0.165\n",
      " \n"
     ]
    }
   ],
   "source": [
    "from sklearn.ensemble import GradientBoostingRegressor\n",
    "\n",
    "lr_list = [0.05, 0.075, 0.1, 0.25, 0.5, 0.75, 1]\n",
    "\n",
    "for learning_rate in lr_list:\n",
    "    gb_clf = GradientBoostingRegressor(learning_rate=learning_rate, random_state=0)\n",
    "    gb_clf.fit(timeFeatures_train_X, timeFeatures_train_Y)\n",
    "\n",
    "    if (learning_rate == .25):\n",
    "        predictionGBR_TF = gb_clf.predict(timeFeatures_test_X)\n",
    "        \n",
    "    print(\"Learning rate: \", learning_rate)\n",
    "    print(\"Accuracy score (training): {0:.3f}\".format(gb_clf.score(timeFeatures_train_X, timeFeatures_train_Y)))\n",
    "    print(\"Accuracy score (validation): {0:.3f}\".format(gb_clf.score(timeFeatures_test_X, timeFeatures_test_Y)))\n",
    "    print(' ')"
   ]
  },
  {
   "cell_type": "code",
   "execution_count": 236,
   "metadata": {},
   "outputs": [
    {
     "name": "stdout",
     "output_type": "stream",
     "text": [
      "Learning rate:  0.05\n",
      "Accuracy score (training): 0.285\n",
      "Accuracy score (validation): 0.306\n",
      " \n",
      "Learning rate:  0.075\n",
      "Accuracy score (training): 0.317\n",
      "Accuracy score (validation): 0.333\n",
      " \n",
      "Learning rate:  0.1\n",
      "Accuracy score (training): 0.333\n",
      "Accuracy score (validation): 0.353\n",
      " \n",
      "Learning rate:  0.25\n",
      "Accuracy score (training): 0.382\n",
      "Accuracy score (validation): 0.397\n",
      " \n",
      "Learning rate:  0.5\n",
      "Accuracy score (training): 0.394\n",
      "Accuracy score (validation): 0.414\n",
      " \n",
      "Learning rate:  0.75\n",
      "Accuracy score (training): 0.403\n",
      "Accuracy score (validation): 0.422\n",
      " \n",
      "Learning rate:  1\n",
      "Accuracy score (training): 0.404\n",
      "Accuracy score (validation): 0.424\n",
      " \n"
     ]
    }
   ],
   "source": [
    "lr_list = [0.05, 0.075, 0.1, 0.25, 0.5, 0.75, 1]\n",
    "\n",
    "for learning_rate in lr_list:\n",
    "    gb_clf = GradientBoostingRegressor(learning_rate=learning_rate, random_state=0)\n",
    "    gb_clf.fit(timeIndex_train_X, timeIndex_train_Y)\n",
    "\n",
    "    if (learning_rate == 1):\n",
    "        predictionGBR_TI = gb_clf.predict(timeIndex_test_X)\n",
    "        \n",
    "    print(\"Learning rate: \", learning_rate)\n",
    "    print(\"Accuracy score (training): {0:.3f}\".format(gb_clf.score(timeIndex_train_X, timeIndex_train_Y)))\n",
    "    print(\"Accuracy score (validation): {0:.3f}\".format(gb_clf.score(timeIndex_test_X, timeIndex_test_Y)))\n",
    "    print(' ')"
   ]
  },
  {
   "cell_type": "code",
   "execution_count": 237,
   "metadata": {},
   "outputs": [
    {
     "data": {
      "image/png": "[encoded data removed]",
      "text/plain": [
       "<Figure size 432x288 with 1 Axes>"
      ]
     },
     "metadata": {
      "needs_background": "light"
     },
     "output_type": "display_data"
    }
   ],
   "source": [
    "predGBR_TF = pd.DataFrame(data=predictionGBR_TF.flatten())\n",
    "\n",
    "fig, ax = plt.subplots()\n",
    "ax.scatter(timeFeatures_test_Y, predGBR_TF)\n",
    "ax.plot([timeFeatures_test_Y.min(), timeFeatures_test_Y.max()], [timeFeatures_test_Y.min(), timeFeatures_test_Y.max()], 'k--', lw=4)\n",
    "ax.set_xlabel('Measured')\n",
    "ax.set_ylabel('Predicted')\n",
    "plt.show()"
   ]
  },
  {
   "cell_type": "code",
   "execution_count": 238,
   "metadata": {},
   "outputs": [
    {
     "data": {
      "image/png": "[encoded data removed]",
      "text/plain": [
       "<Figure size 432x288 with 1 Axes>"
      ]
     },
     "metadata": {
      "needs_background": "light"
     },
     "output_type": "display_data"
    }
   ],
   "source": [
    "\n",
    "predGBR_TI = pd.DataFrame(data=predictionGBR_TI.flatten())\n",
    "\n",
    "fig, ax = plt.subplots()\n",
    "ax.scatter(timeIndex_test_Y, predGBR_TI)\n",
    "ax.plot([timeIndex_test_Y.min(), timeIndex_test_Y.max()], [timeIndex_test_Y.min(), timeIndex_test_Y.max()], 'k--', lw=4)\n",
    "ax.set_xlabel('Measured')\n",
    "ax.set_ylabel('Predicted')\n",
    "plt.show()"
   ]
  },
  {
   "cell_type": "markdown",
   "metadata": {},
   "source": [
    "The two methods of indexing date performed very similarly, so let's use the one with the date as an index and as multiple features. It should be noted that the plots above correspond to the best performing learning rate of each respective model. The reason we employed a plot of measured vs predicted vs a time series plot is because we're predicting a very high quantity of products, so a plot of all products could be quite difficult to visualize. The line included on these graphs represents the \"perfect predictor\" line. \n",
    "\n",
    "One reason that we have some outlier points on the measured (x) axis is because they were several standard deviations from the mean and rare or non-existent in the training set, so they were difficult to predict."
   ]
  },
  {
   "cell_type": "markdown",
   "metadata": {},
   "source": [
    "I hypothesize that it might be better to predict by product and ignore many of the datasets which are simply impossible to predict (i.e. a single spike or similar). One way to bin these quantitatively is to train a model for each product, then select the best performing ones. However, this is highly inefficient and time consuming. Therefore, we can proxy this by hypothesizing that we will be able to best predict order_demand for products which have a low standard-deviation to mean ratio, also known as the coefficient of variation. In the real world, we'd want to ignore products that have below a certain amount of orders shipped (if they shipped on under 100 days for example, ignore that product). For now, due to the 10-hour rule, we will simply inspect a couple to generate models on."
   ]
  },
  {
   "cell_type": "code",
   "execution_count": 239,
   "metadata": {},
   "outputs": [
    {
     "data": {
      "text/html": [
       "<div>\n",
       "<style scoped>\n",
       "    .dataframe tbody tr th:only-of-type {\n",
       "        vertical-align: middle;\n",
       "    }\n",
       "\n",
       "    .dataframe tbody tr th {\n",
       "        vertical-align: top;\n",
       "    }\n",
       "\n",
       "    .dataframe thead th {\n",
       "        text-align: right;\n",
       "    }\n",
       "</style>\n",
       "<table border=\"1\" class=\"dataframe\">\n",
       "  <thead>\n",
       "    <tr style=\"text-align: right;\">\n",
       "      <th></th>\n",
       "      <th>Product_Code</th>\n",
       "      <th>ratio</th>\n",
       "    </tr>\n",
       "  </thead>\n",
       "  <tbody>\n",
       "    <tr>\n",
       "      <th>1687</th>\n",
       "      <td>1698</td>\n",
       "      <td>0.000000</td>\n",
       "    </tr>\n",
       "    <tr>\n",
       "      <th>1037</th>\n",
       "      <td>1048</td>\n",
       "      <td>0.096328</td>\n",
       "    </tr>\n",
       "    <tr>\n",
       "      <th>1306</th>\n",
       "      <td>1317</td>\n",
       "      <td>0.124935</td>\n",
       "    </tr>\n",
       "    <tr>\n",
       "      <th>1568</th>\n",
       "      <td>1579</td>\n",
       "      <td>0.134697</td>\n",
       "    </tr>\n",
       "    <tr>\n",
       "      <th>2029</th>\n",
       "      <td>2042</td>\n",
       "      <td>0.174331</td>\n",
       "    </tr>\n",
       "    <tr>\n",
       "      <th>2031</th>\n",
       "      <td>2044</td>\n",
       "      <td>0.176170</td>\n",
       "    </tr>\n",
       "    <tr>\n",
       "      <th>66</th>\n",
       "      <td>67</td>\n",
       "      <td>0.177924</td>\n",
       "    </tr>\n",
       "    <tr>\n",
       "      <th>2034</th>\n",
       "      <td>2047</td>\n",
       "      <td>0.193542</td>\n",
       "    </tr>\n",
       "    <tr>\n",
       "      <th>1351</th>\n",
       "      <td>1362</td>\n",
       "      <td>0.214270</td>\n",
       "    </tr>\n",
       "    <tr>\n",
       "      <th>2035</th>\n",
       "      <td>2048</td>\n",
       "      <td>0.230050</td>\n",
       "    </tr>\n",
       "    <tr>\n",
       "      <th>2030</th>\n",
       "      <td>2043</td>\n",
       "      <td>0.242655</td>\n",
       "    </tr>\n",
       "    <tr>\n",
       "      <th>359</th>\n",
       "      <td>360</td>\n",
       "      <td>0.274145</td>\n",
       "    </tr>\n",
       "    <tr>\n",
       "      <th>2021</th>\n",
       "      <td>2033</td>\n",
       "      <td>0.288394</td>\n",
       "    </tr>\n",
       "    <tr>\n",
       "      <th>361</th>\n",
       "      <td>362</td>\n",
       "      <td>0.304931</td>\n",
       "    </tr>\n",
       "    <tr>\n",
       "      <th>467</th>\n",
       "      <td>468</td>\n",
       "      <td>0.313155</td>\n",
       "    </tr>\n",
       "    <tr>\n",
       "      <th>357</th>\n",
       "      <td>358</td>\n",
       "      <td>0.326426</td>\n",
       "    </tr>\n",
       "    <tr>\n",
       "      <th>2032</th>\n",
       "      <td>2045</td>\n",
       "      <td>0.327073</td>\n",
       "    </tr>\n",
       "    <tr>\n",
       "      <th>2033</th>\n",
       "      <td>2046</td>\n",
       "      <td>0.328428</td>\n",
       "    </tr>\n",
       "    <tr>\n",
       "      <th>632</th>\n",
       "      <td>633</td>\n",
       "      <td>0.330138</td>\n",
       "    </tr>\n",
       "    <tr>\n",
       "      <th>1721</th>\n",
       "      <td>1732</td>\n",
       "      <td>0.348093</td>\n",
       "    </tr>\n",
       "    <tr>\n",
       "      <th>923</th>\n",
       "      <td>934</td>\n",
       "      <td>0.369212</td>\n",
       "    </tr>\n",
       "    <tr>\n",
       "      <th>1962</th>\n",
       "      <td>1974</td>\n",
       "      <td>0.387616</td>\n",
       "    </tr>\n",
       "    <tr>\n",
       "      <th>698</th>\n",
       "      <td>699</td>\n",
       "      <td>0.387843</td>\n",
       "    </tr>\n",
       "    <tr>\n",
       "      <th>54</th>\n",
       "      <td>55</td>\n",
       "      <td>0.396335</td>\n",
       "    </tr>\n",
       "    <tr>\n",
       "      <th>1595</th>\n",
       "      <td>1606</td>\n",
       "      <td>0.398410</td>\n",
       "    </tr>\n",
       "    <tr>\n",
       "      <th>1604</th>\n",
       "      <td>1615</td>\n",
       "      <td>0.409278</td>\n",
       "    </tr>\n",
       "    <tr>\n",
       "      <th>600</th>\n",
       "      <td>601</td>\n",
       "      <td>0.412084</td>\n",
       "    </tr>\n",
       "    <tr>\n",
       "      <th>508</th>\n",
       "      <td>509</td>\n",
       "      <td>0.418968</td>\n",
       "    </tr>\n",
       "    <tr>\n",
       "      <th>1033</th>\n",
       "      <td>1044</td>\n",
       "      <td>0.419277</td>\n",
       "    </tr>\n",
       "    <tr>\n",
       "      <th>52</th>\n",
       "      <td>53</td>\n",
       "      <td>0.423437</td>\n",
       "    </tr>\n",
       "    <tr>\n",
       "      <th>1785</th>\n",
       "      <td>1796</td>\n",
       "      <td>0.425552</td>\n",
       "    </tr>\n",
       "    <tr>\n",
       "      <th>852</th>\n",
       "      <td>863</td>\n",
       "      <td>0.426517</td>\n",
       "    </tr>\n",
       "    <tr>\n",
       "      <th>856</th>\n",
       "      <td>867</td>\n",
       "      <td>0.427458</td>\n",
       "    </tr>\n",
       "    <tr>\n",
       "      <th>1769</th>\n",
       "      <td>1780</td>\n",
       "      <td>0.449050</td>\n",
       "    </tr>\n",
       "    <tr>\n",
       "      <th>1085</th>\n",
       "      <td>1096</td>\n",
       "      <td>0.451043</td>\n",
       "    </tr>\n",
       "    <tr>\n",
       "      <th>696</th>\n",
       "      <td>697</td>\n",
       "      <td>0.455632</td>\n",
       "    </tr>\n",
       "    <tr>\n",
       "      <th>1771</th>\n",
       "      <td>1782</td>\n",
       "      <td>0.457424</td>\n",
       "    </tr>\n",
       "    <tr>\n",
       "      <th>1435</th>\n",
       "      <td>1446</td>\n",
       "      <td>0.459037</td>\n",
       "    </tr>\n",
       "    <tr>\n",
       "      <th>697</th>\n",
       "      <td>698</td>\n",
       "      <td>0.461925</td>\n",
       "    </tr>\n",
       "    <tr>\n",
       "      <th>809</th>\n",
       "      <td>810</td>\n",
       "      <td>0.466374</td>\n",
       "    </tr>\n",
       "    <tr>\n",
       "      <th>113</th>\n",
       "      <td>114</td>\n",
       "      <td>0.467707</td>\n",
       "    </tr>\n",
       "    <tr>\n",
       "      <th>1209</th>\n",
       "      <td>1220</td>\n",
       "      <td>0.475995</td>\n",
       "    </tr>\n",
       "    <tr>\n",
       "      <th>1088</th>\n",
       "      <td>1099</td>\n",
       "      <td>0.476402</td>\n",
       "    </tr>\n",
       "    <tr>\n",
       "      <th>1913</th>\n",
       "      <td>1925</td>\n",
       "      <td>0.485622</td>\n",
       "    </tr>\n",
       "    <tr>\n",
       "      <th>578</th>\n",
       "      <td>579</td>\n",
       "      <td>0.487249</td>\n",
       "    </tr>\n",
       "    <tr>\n",
       "      <th>735</th>\n",
       "      <td>736</td>\n",
       "      <td>0.490073</td>\n",
       "    </tr>\n",
       "    <tr>\n",
       "      <th>695</th>\n",
       "      <td>696</td>\n",
       "      <td>0.490364</td>\n",
       "    </tr>\n",
       "    <tr>\n",
       "      <th>2047</th>\n",
       "      <td>2060</td>\n",
       "      <td>0.491084</td>\n",
       "    </tr>\n",
       "    <tr>\n",
       "      <th>1513</th>\n",
       "      <td>1524</td>\n",
       "      <td>0.494007</td>\n",
       "    </tr>\n",
       "    <tr>\n",
       "      <th>1686</th>\n",
       "      <td>1697</td>\n",
       "      <td>0.501368</td>\n",
       "    </tr>\n",
       "  </tbody>\n",
       "</table>\n",
       "</div>"
      ],
      "text/plain": [
       "      Product_Code     ratio\n",
       "1687          1698  0.000000\n",
       "1037          1048  0.096328\n",
       "1306          1317  0.124935\n",
       "1568          1579  0.134697\n",
       "2029          2042  0.174331\n",
       "2031          2044  0.176170\n",
       "66              67  0.177924\n",
       "2034          2047  0.193542\n",
       "1351          1362  0.214270\n",
       "2035          2048  0.230050\n",
       "2030          2043  0.242655\n",
       "359            360  0.274145\n",
       "2021          2033  0.288394\n",
       "361            362  0.304931\n",
       "467            468  0.313155\n",
       "357            358  0.326426\n",
       "2032          2045  0.327073\n",
       "2033          2046  0.328428\n",
       "632            633  0.330138\n",
       "1721          1732  0.348093\n",
       "923            934  0.369212\n",
       "1962          1974  0.387616\n",
       "698            699  0.387843\n",
       "54              55  0.396335\n",
       "1595          1606  0.398410\n",
       "1604          1615  0.409278\n",
       "600            601  0.412084\n",
       "508            509  0.418968\n",
       "1033          1044  0.419277\n",
       "52              53  0.423437\n",
       "1785          1796  0.425552\n",
       "852            863  0.426517\n",
       "856            867  0.427458\n",
       "1769          1780  0.449050\n",
       "1085          1096  0.451043\n",
       "696            697  0.455632\n",
       "1771          1782  0.457424\n",
       "1435          1446  0.459037\n",
       "697            698  0.461925\n",
       "809            810  0.466374\n",
       "113            114  0.467707\n",
       "1209          1220  0.475995\n",
       "1088          1099  0.476402\n",
       "1913          1925  0.485622\n",
       "578            579  0.487249\n",
       "735            736  0.490073\n",
       "695            696  0.490364\n",
       "2047          2060  0.491084\n",
       "1513          1524  0.494007\n",
       "1686          1697  0.501368"
      ]
     },
     "execution_count": 239,
     "metadata": {},
     "output_type": "execute_result"
    }
   ],
   "source": [
    "means = original.groupby(['Product_Code'])['Order_Demand'].mean().reset_index()\n",
    "stdevs = original.groupby(['Product_Code'])['Order_Demand'].std().reset_index()\n",
    "\n",
    "ratio = pd.DataFrame(columns=['Product_Code', 'ratio'])\n",
    "ratio['Product_Code'] = stdevs['Product_Code']\n",
    "ratio['ratio'] = stdevs['Order_Demand'] / means['Order_Demand']\n",
    "\n",
    "#sort by ratio\n",
    "ratio.sort_values(['ratio'], inplace=True)\n",
    "\n",
    "ratio.head(50)\n"
   ]
  },
  {
   "cell_type": "markdown",
   "metadata": {},
   "source": [
    "Now that we have the products with the lowest coefficient of variation, let's choose one to plot. We want to find a one that ships orders on quite a few dates, which we will do by inspection here. Product 1513 meets the criteria. Of course, for production we'd want to do a much more rigorous analysis, but this is simply a proof of concept."
   ]
  },
  {
   "cell_type": "code",
   "execution_count": 240,
   "metadata": {},
   "outputs": [
    {
     "data": {
      "image/png": "[encoded data removed]",
      "text/plain": [
       "<Figure size 432x288 with 1 Axes>"
      ]
     },
     "metadata": {
      "needs_background": "light"
     },
     "output_type": "display_data"
    }
   ],
   "source": [
    "byProd = timeIndex.groupby(['Date', 'Product_Code', 'Warehouse'])['Order_Demand'].sum().reset_index()\n",
    "byProd = byProd.set_index('Date')\n",
    "\n",
    "is1513 = byProd['Product_Code'] == 1513\n",
    "prod = byProd[is1513]\n",
    "prodX = prod.index\n",
    "prodY = prod['Order_Demand']\n",
    "\n",
    "# Data for plotting\n",
    "\n",
    "fig, ax = plt.subplots()\n",
    "ax.plot(prodX, prodY)\n",
    "\n",
    "ax.set(xlabel='Date', ylabel='Total Units Sold',\n",
    "       title='Product 1513 Orders')\n",
    "ax.grid()\n",
    "plt.show()"
   ]
  },
  {
   "cell_type": "markdown",
   "metadata": {},
   "source": [
    "Observe that outliers are not too common, specifically those above 60,000 units sold. Next we prepare the data to be trained on some models."
   ]
  },
  {
   "cell_type": "code",
   "execution_count": 241,
   "metadata": {},
   "outputs": [
    {
     "name": "stdout",
     "output_type": "stream",
     "text": [
      "            year  day  month  daysSinceFirst  Product_Code  Warehouse\n",
      "Date                                                                 \n",
      "2016-01-05  2016    5      1            1823          1513          0\n",
      "2016-01-05  2016    5      1            1823          1513          2\n",
      "2016-01-06  2016    6      1            1824          1513          0\n",
      "2016-01-06  2016    6      1            1824          1513          2\n",
      "2016-01-07  2016    7      1            1825          1513          0\n",
      "Date\n",
      "2016-01-05       0\n",
      "2016-01-05    2000\n",
      "2016-01-06    2300\n",
      "2016-01-06    4000\n",
      "2016-01-07     400\n",
      "Name: Order_Demand, dtype: int64\n"
     ]
    }
   ],
   "source": [
    "byProdTF = original.groupby(['Date', 'year', 'day', 'month', 'daysSinceFirst', 'Product_Code', 'Warehouse'])['Order_Demand'].sum().reset_index()\n",
    "byProdTF = byProdTF.set_index('Date')\n",
    "\n",
    "is1513 = byProd['Product_Code'] == 1513\n",
    "prod1513TF = byProdTF[is1513]\n",
    "\n",
    "prod_Train = prod1513TF[:'2015-12-31']\n",
    "prod_Test = prod1513TF['2016-01-01':]\n",
    "\n",
    "\n",
    "prodTF_train_X = prod_Train[['year', 'day', 'month', 'daysSinceFirst', 'Product_Code', 'Warehouse']]\n",
    "prodTF_test_X = prod_Test[['year', 'day', 'month', 'daysSinceFirst', 'Product_Code', 'Warehouse']]\n",
    "prodTF_train_Y = prod_Train['Order_Demand']\n",
    "prodTF_test_Y = prod_Test['Order_Demand']\n",
    "\n",
    "\n",
    "print(prodTF_test_X.head())\n",
    "print(prodTF_test_Y.head())"
   ]
  },
  {
   "cell_type": "code",
   "execution_count": 242,
   "metadata": {},
   "outputs": [
    {
     "name": "stdout",
     "output_type": "stream",
     "text": [
      "Learning rate:  0.05\n",
      "Accuracy score (training): 0.208\n",
      "Accuracy score (validation): 0.009\n",
      " \n",
      "Learning rate:  0.075\n",
      "Accuracy score (training): 0.290\n",
      "Accuracy score (validation): -0.055\n",
      " \n",
      "Learning rate:  0.1\n",
      "Accuracy score (training): 0.360\n",
      "Accuracy score (validation): -0.058\n",
      " \n",
      "Learning rate:  0.25\n",
      "Accuracy score (training): 0.536\n",
      "Accuracy score (validation): -0.025\n",
      " \n",
      "Learning rate:  0.5\n",
      "Accuracy score (training): 0.707\n",
      "Accuracy score (validation): -2.588\n",
      " \n",
      "Learning rate:  0.75\n",
      "Accuracy score (training): 0.763\n",
      "Accuracy score (validation): -0.721\n",
      " \n",
      "Learning rate:  1\n",
      "Accuracy score (training): 0.805\n",
      "Accuracy score (validation): -3.334\n",
      " \n"
     ]
    }
   ],
   "source": [
    "#first use the same model used above\n",
    "lr_list = [0.05, 0.075, 0.1, 0.25, 0.5, 0.75, 1]\n",
    "\n",
    "for learning_rate in lr_list:\n",
    "    gb_clf = GradientBoostingRegressor(learning_rate=learning_rate, random_state=0)\n",
    "    gb_clf.fit(prodTF_train_X, prodTF_train_Y)\n",
    "\n",
    "    if (learning_rate == .05):\n",
    "        predictionGBR_prod1513 = gb_clf.predict(prodTF_test_X)\n",
    "    if (learning_rate == 1):\n",
    "        predLearningRate1 = gb_clf.predict(prodTF_test_X)\n",
    "        \n",
    "    print(\"Learning rate: \", learning_rate)\n",
    "    print(\"Accuracy score (training): {0:.3f}\".format(gb_clf.score(prodTF_train_X, prodTF_train_Y)))\n",
    "    print(\"Accuracy score (validation): {0:.3f}\".format(gb_clf.score(prodTF_test_X, prodTF_test_Y)))\n",
    "    print(' ')"
   ]
  },
  {
   "cell_type": "code",
   "execution_count": 243,
   "metadata": {},
   "outputs": [
    {
     "data": {
      "image/png": "[encoded data removed]",
      "text/plain": [
       "<Figure size 432x288 with 1 Axes>"
      ]
     },
     "metadata": {
      "needs_background": "light"
     },
     "output_type": "display_data"
    }
   ],
   "source": [
    "from matplotlib import pyplot\n",
    "new_series = pd.Series(predictionGBR_prod1513).to_frame()\n",
    "new_series.set_index(prod_test_Y.index, inplace = True)\n",
    "\n",
    "pyplot.plot(prod_test_Y)\n",
    "pyplot.plot(new_series, color='red')\n",
    "pyplot.show()"
   ]
  },
  {
   "cell_type": "code",
   "execution_count": 244,
   "metadata": {},
   "outputs": [
    {
     "data": {
      "image/png": "[encoded data removed]",
      "text/plain": [
       "<Figure size 432x288 with 1 Axes>"
      ]
     },
     "metadata": {
      "needs_background": "light"
     },
     "output_type": "display_data"
    }
   ],
   "source": [
    "new_series = pd.Series(predLearningRate1).to_frame()\n",
    "new_series.set_index(prod_test_Y.index, inplace = True)\n",
    "\n",
    "pyplot.plot(prod_test_Y)\n",
    "pyplot.plot(new_series, color='red')\n",
    "pyplot.show()"
   ]
  },
  {
   "cell_type": "markdown",
   "metadata": {},
   "source": [
    "I plotted two charts for the gradient boosting regressor. The first is the prediction when the model was trained at the lowest tested learning rate (.05), the second at the highest (1). The .05 learning rate hd the highest accuracy, but also was least likely to be influenced by the input data (R^2 closed to 0), but this is easy to reason about because it is likely focusing on the mean of the training data. The higher learning has more variability, hence it's R^2's greater distance from 0, but is less accuracy because of that.\n",
    "\n",
    "Next, let's attempt a neural network. I have not yet tried one of these, so I'm curious to see how it will work out."
   ]
  },
  {
   "cell_type": "code",
   "execution_count": 245,
   "metadata": {},
   "outputs": [],
   "source": [
    "from sklearn.neural_network import MLPRegressor\n",
    "\n",
    "#use 8 hidden layers with 50 nodes each, maximum number of iterations is 500\n",
    "mlp2 = MLPRegressor(hidden_layer_sizes = (50,50,50,50,50,50,50,50), max_iter = 500)\n",
    "\n",
    "mlp2.fit(prodTF_train_X, prodTF_train_Y)\n",
    "\n",
    "predNN = mlp2.predict(prodTF_test_X)\n"
   ]
  },
  {
   "cell_type": "code",
   "execution_count": 246,
   "metadata": {},
   "outputs": [
    {
     "data": {
      "image/png": "[encoded data removed]",
      "text/plain": [
       "<Figure size 432x288 with 1 Axes>"
      ]
     },
     "metadata": {
      "needs_background": "light"
     },
     "output_type": "display_data"
    }
   ],
   "source": [
    "predNNResults = pd.Series(predNN).to_frame()\n",
    "predNNResults.set_index(prodTF_test_Y.index, inplace = True)\n",
    "\n",
    "pyplot.plot(prodTF_test_Y)\n",
    "pyplot.plot(predNNResults, color='red')\n",
    "pyplot.show()"
   ]
  },
  {
   "cell_type": "code",
   "execution_count": 247,
   "metadata": {},
   "outputs": [
    {
     "name": "stdout",
     "output_type": "stream",
     "text": [
      "-0.0010944090751547897\n"
     ]
    }
   ],
   "source": [
    "score = mlp2.score(prodTF_test_X, prodTF_test_Y)\n",
    "print(score)"
   ]
  },
  {
   "cell_type": "markdown",
   "metadata": {},
   "source": [
    "This model did not live up to the \"hype\" of neural networks. A near constant prediction over the test set, along with an R^2 score near 0, indicates that barely places weight on the input data. It is predicting very close to the mean of the training set, because we specifically selected this product (1517) because of it's low variance. Therefore, it's reasonable to expect the resulting predictions will reflect that low variance. There are likely parameters that we could tune to improve this model, I only played around with the hidden layer and max_iterations. Unfortunately, time invested in this project has far exceeded the 10 hr limit due to some rewrites, so fine-tuning the neural network will have to be saved for another day.\n",
    "\n",
    "It should be noted that I attempted to construct a neural network for the entire dataset, as I did with the first GBR, but the result was similar to this neural network model, so I removed the other one, with the hope that a product specific model might be better. Of course, that hope was ill-founded."
   ]
  },
  {
   "cell_type": "markdown",
   "metadata": {},
   "source": [
    "### 3) Conclusion\n",
    "\n",
    "My earlier hypothesis is false: breaking the dataset down by product did not increase accuracy. One explanation could be that product shipments are not independent of each other, so having all the products train together allows interdependence in the model. Of course, it should be kept in mind that I only tested one individual product for POC.\n",
    "\n",
    "The takeaways from this project were to figure out how to get the most value out of a dataset that has a lot of ways of approaching it. Breaking it down and modifying date features helped, as we showed. Arguably the most important part was identifying products that lacked many outliers, in a way that we could actually predict these. Although we did this mainly by inspection for the sake of time, the discussion that went with that suggested we a method for doing it at scale. And even though this didn't help us get high accuracy for the product-specific models, applying this to the model training on all products (since it performed best) may be a way to improve it further. Due to the 10 hour rule, I will leave this as an exercise for the reader.\n",
    "\n",
    "In addition to what has already been described, an extension could be exploring the category feature more, such as grouping sales by category to predict them. One advantage to doing this is that products may have interdependence in sales, such as someone buying a toothbrush who also buys toothpaste and both products could be listed in the same category. Another extention would be to group the data, at whatever level (product, category, etc.) by a different time period. We predicted specific days here, but accuracy may improve if we try and predict by month or season."
   ]
  },
  {
   "cell_type": "code",
   "execution_count": null,
   "metadata": {},
   "outputs": [],
   "source": []
  }
 ],
 "metadata": {
  "kernelspec": {
   "display_name": "Python 3",
   "language": "python",
   "name": "python3"
  },
  "language_info": {
   "codemirror_mode": {
    "name": "ipython",
    "version": 3
   },
   "file_extension": ".py",
   "mimetype": "text/x-python",
   "name": "python",
   "nbconvert_exporter": "python",
   "pygments_lexer": "ipython3",
   "version": "3.7.3"
  }
 },
 "nbformat": 4,
 "nbformat_minor": 2
}
