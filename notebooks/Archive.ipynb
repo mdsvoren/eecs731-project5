{
 "cells": [
  {
   "cell_type": "markdown",
   "metadata": {},
   "source": [
    "## Project 5 - Forecasting Product Demand\n",
    "\n",
    "In this notebook, we will look at historical data of various product's sales by date. Also included in this dataset are the warehouse the product is shipped from and the category for a specific product. The first step is to read in the data."
   ]
  },
  {
   "cell_type": "code",
   "execution_count": 1,
   "metadata": {},
   "outputs": [
    {
     "name": "stdout",
     "output_type": "stream",
     "text": [
      "   Product_Code Warehouse Product_Category       Date Order_Demand\n",
      "0  Product_0993    Whse_J     Category_028  2012/7/27         100 \n",
      "1  Product_0979    Whse_J     Category_028  2012/1/19         500 \n",
      "2  Product_0979    Whse_J     Category_028   2012/2/3         500 \n",
      "3  Product_0979    Whse_J     Category_028   2012/2/9         500 \n",
      "4  Product_0979    Whse_J     Category_028   2012/3/2         500 \n"
     ]
    }
   ],
   "source": [
    "import numpy as np\n",
    "import pandas as pd\n",
    "\n",
    "original = pd.read_csv(\"../data/Historical Product Demand.csv\")\n",
    "print(original.head(5))\n",
    "\n",
    "#we can drop the rows that don't have a date- these happen to be the only rows with NaN. It's okay to just drop them because \n",
    "#they represent only ~1% of the data set and the associated data is useless without the date\n",
    "original.dropna(inplace=True)\n"
   ]
  },
  {
   "cell_type": "code",
   "execution_count": 2,
   "metadata": {},
   "outputs": [
    {
     "data": {
      "text/html": [
       "<div>\n",
       "<style scoped>\n",
       "    .dataframe tbody tr th:only-of-type {\n",
       "        vertical-align: middle;\n",
       "    }\n",
       "\n",
       "    .dataframe tbody tr th {\n",
       "        vertical-align: top;\n",
       "    }\n",
       "\n",
       "    .dataframe thead th {\n",
       "        text-align: right;\n",
       "    }\n",
       "</style>\n",
       "<table border=\"1\" class=\"dataframe\">\n",
       "  <thead>\n",
       "    <tr style=\"text-align: right;\">\n",
       "      <th></th>\n",
       "      <th>Date</th>\n",
       "      <th>Product_Code</th>\n",
       "      <th>Warehouse</th>\n",
       "      <th>Product_Category</th>\n",
       "      <th>Order_Demand</th>\n",
       "    </tr>\n",
       "  </thead>\n",
       "  <tbody>\n",
       "    <tr>\n",
       "      <th>0</th>\n",
       "      <td>2011-01-08</td>\n",
       "      <td>Product_0965</td>\n",
       "      <td>Whse_A</td>\n",
       "      <td>Category_006</td>\n",
       "      <td>2</td>\n",
       "    </tr>\n",
       "    <tr>\n",
       "      <th>1</th>\n",
       "      <td>2011-05-31</td>\n",
       "      <td>Product_1724</td>\n",
       "      <td>Whse_A</td>\n",
       "      <td>Category_003</td>\n",
       "      <td>108</td>\n",
       "    </tr>\n",
       "    <tr>\n",
       "      <th>2</th>\n",
       "      <td>2011-06-24</td>\n",
       "      <td>Product_1521</td>\n",
       "      <td>Whse_S</td>\n",
       "      <td>Category_019</td>\n",
       "      <td>92000</td>\n",
       "    </tr>\n",
       "    <tr>\n",
       "      <th>3</th>\n",
       "      <td>2011-09-02</td>\n",
       "      <td>Product_1507</td>\n",
       "      <td>Whse_C</td>\n",
       "      <td>Category_019</td>\n",
       "      <td>1250</td>\n",
       "    </tr>\n",
       "    <tr>\n",
       "      <th>4</th>\n",
       "      <td>2011-09-27</td>\n",
       "      <td>Product_0608</td>\n",
       "      <td>Whse_C</td>\n",
       "      <td>Category_001</td>\n",
       "      <td>5</td>\n",
       "    </tr>\n",
       "  </tbody>\n",
       "</table>\n",
       "</div>"
      ],
      "text/plain": [
       "        Date  Product_Code Warehouse Product_Category  Order_Demand\n",
       "0 2011-01-08  Product_0965    Whse_A     Category_006             2\n",
       "1 2011-05-31  Product_1724    Whse_A     Category_003           108\n",
       "2 2011-06-24  Product_1521    Whse_S     Category_019         92000\n",
       "3 2011-09-02  Product_1507    Whse_C     Category_019          1250\n",
       "4 2011-09-27  Product_0608    Whse_C     Category_001             5"
      ]
     },
     "execution_count": 2,
     "metadata": {},
     "output_type": "execute_result"
    }
   ],
   "source": [
    "#change the type of the input data to be accessible by the models\n",
    "\n",
    "original['Date'] = pd.to_datetime(original['Date']) \n",
    "original.sort_values(['Date'], inplace=True)\n",
    "\n",
    "original['Order_Demand'] = original['Order_Demand'].replace('[(]', '-', regex=True).astype('str')\n",
    "original['Order_Demand'] = original['Order_Demand'].replace('[)]', '', regex=True).astype('int')   \n",
    "\n",
    "original = original.groupby(['Date', 'Product_Code', 'Warehouse', 'Product_Category'])['Order_Demand'].sum().reset_index()\n",
    "\n",
    "original.head()"
   ]
  },
  {
   "cell_type": "code",
   "execution_count": 3,
   "metadata": {},
   "outputs": [
    {
     "data": {
      "text/html": [
       "<div>\n",
       "<style scoped>\n",
       "    .dataframe tbody tr th:only-of-type {\n",
       "        vertical-align: middle;\n",
       "    }\n",
       "\n",
       "    .dataframe tbody tr th {\n",
       "        vertical-align: top;\n",
       "    }\n",
       "\n",
       "    .dataframe thead th {\n",
       "        text-align: right;\n",
       "    }\n",
       "</style>\n",
       "<table border=\"1\" class=\"dataframe\">\n",
       "  <thead>\n",
       "    <tr style=\"text-align: right;\">\n",
       "      <th></th>\n",
       "      <th>Date</th>\n",
       "      <th>Product_Category</th>\n",
       "      <th>Order_Demand</th>\n",
       "    </tr>\n",
       "  </thead>\n",
       "  <tbody>\n",
       "    <tr>\n",
       "      <th>0</th>\n",
       "      <td>2011-01-08</td>\n",
       "      <td>Category_006</td>\n",
       "      <td>2</td>\n",
       "    </tr>\n",
       "    <tr>\n",
       "      <th>1</th>\n",
       "      <td>2011-05-31</td>\n",
       "      <td>Category_003</td>\n",
       "      <td>108</td>\n",
       "    </tr>\n",
       "    <tr>\n",
       "      <th>2</th>\n",
       "      <td>2011-06-24</td>\n",
       "      <td>Category_019</td>\n",
       "      <td>92000</td>\n",
       "    </tr>\n",
       "    <tr>\n",
       "      <th>3</th>\n",
       "      <td>2011-09-02</td>\n",
       "      <td>Category_019</td>\n",
       "      <td>1250</td>\n",
       "    </tr>\n",
       "    <tr>\n",
       "      <th>4</th>\n",
       "      <td>2011-09-27</td>\n",
       "      <td>Category_001</td>\n",
       "      <td>28</td>\n",
       "    </tr>\n",
       "  </tbody>\n",
       "</table>\n",
       "</div>"
      ],
      "text/plain": [
       "        Date Product_Category  Order_Demand\n",
       "0 2011-01-08     Category_006             2\n",
       "1 2011-05-31     Category_003           108\n",
       "2 2011-06-24     Category_019         92000\n",
       "3 2011-09-02     Category_019          1250\n",
       "4 2011-09-27     Category_001            28"
      ]
     },
     "execution_count": 3,
     "metadata": {},
     "output_type": "execute_result"
    }
   ],
   "source": [
    "#group by product category\n",
    "\n",
    "byProdCat = original.groupby(['Date', 'Product_Category'])['Order_Demand'].sum().reset_index()\n",
    "byProdCat.head()"
   ]
  },
  {
   "cell_type": "markdown",
   "metadata": {},
   "source": [
    "Next we want to do some exploratory analysis on the data. Since the goal is to do a demand forecast, it would be useful to examine the sales over time  by category. However, there are over 2000 products and over 30 categories, so we will just look at an arbitrary two of them. "
   ]
  },
  {
   "cell_type": "code",
   "execution_count": 4,
   "metadata": {},
   "outputs": [
    {
     "data": {
      "text/plain": [
       "<Figure size 640x480 with 1 Axes>"
      ]
     },
     "metadata": {},
     "output_type": "display_data"
    }
   ],
   "source": [
    "import matplotlib\n",
    "import matplotlib.pyplot as plt\n",
    "import numpy as np\n",
    "\n",
    "from pandas.plotting import register_matplotlib_converters\n",
    "register_matplotlib_converters()\n",
    "\n",
    "isCat5 = byProdCat['Product_Category'] == 'Category_005'\n",
    "cat5 = byProdCat[isCat5]\n",
    "cat5X = cat5['Date']\n",
    "cat5Y = cat5['Order_Demand']\n",
    "\n",
    "# Data for plotting\n",
    "\n",
    "fig, ax = plt.subplots()\n",
    "ax.plot(cat5X, cat5Y)\n",
    "\n",
    "ax.set(xlabel='Date', ylabel='Total Units Sold',\n",
    "       title='Category 5 Orders')\n",
    "ax.grid()\n",
    "plt.show()"
   ]
  },
  {
   "cell_type": "code",
   "execution_count": 5,
   "metadata": {},
   "outputs": [
    {
     "data": {
      "image/png": "[encoded data removed]",
      "text/plain": [
       "<Figure size 432x288 with 1 Axes>"
      ]
     },
     "metadata": {
      "needs_background": "light"
     },
     "output_type": "display_data"
    }
   ],
   "source": [
    "isCat10 = byProdCat['Product_Category'] == 'Category_010'\n",
    "cat10 = byProdCat[isCat10]\n",
    "cat10X = cat10['Date']\n",
    "cat10Y = cat10['Order_Demand']\n",
    "\n",
    "# Data for plotting\n",
    "\n",
    "fig, ax = plt.subplots()\n",
    "ax.plot(cat10X, cat10Y)\n",
    "\n",
    "ax.set(xlabel='Date', ylabel='Total Units Sold',\n",
    "       title='Category 10 Orders')\n",
    "ax.grid()\n",
    "plt.show()"
   ]
  },
  {
   "cell_type": "markdown",
   "metadata": {},
   "source": [
    "It appears that there is strong fluctation in Category 10, with a severe outlier in 2012. However, category 5 has much more consistent order quantity, with several outliers throughout. A takeaway from these charts is that it could be useful to cut out the extreme outliers, say any data 2 standard deviations away from the mean. However, we won't do that here to remain in the scope of the project time-wise.\n",
    "\n",
    "What we do need to do is modify the date, as the models can not train with date times. Therefore, we will break the date up into three columns: day, month, and year. Also, we want to include a days since first date. We also need to convert product category, product code, and warehouse to numeric values. We can use regular expressions to change the product category and product codes to ints and label encoding to modify the warehouse values."
   ]
  },
  {
   "cell_type": "code",
   "execution_count": 6,
   "metadata": {},
   "outputs": [
    {
     "data": {
      "text/html": [
       "<div>\n",
       "<style scoped>\n",
       "    .dataframe tbody tr th:only-of-type {\n",
       "        vertical-align: middle;\n",
       "    }\n",
       "\n",
       "    .dataframe tbody tr th {\n",
       "        vertical-align: top;\n",
       "    }\n",
       "\n",
       "    .dataframe thead th {\n",
       "        text-align: right;\n",
       "    }\n",
       "</style>\n",
       "<table border=\"1\" class=\"dataframe\">\n",
       "  <thead>\n",
       "    <tr style=\"text-align: right;\">\n",
       "      <th></th>\n",
       "      <th>Date</th>\n",
       "      <th>Product_Code</th>\n",
       "      <th>Warehouse</th>\n",
       "      <th>Product_Category</th>\n",
       "      <th>Order_Demand</th>\n",
       "      <th>year</th>\n",
       "      <th>month</th>\n",
       "      <th>day</th>\n",
       "      <th>daysSinceFirst</th>\n",
       "    </tr>\n",
       "  </thead>\n",
       "  <tbody>\n",
       "    <tr>\n",
       "      <th>0</th>\n",
       "      <td>2011-01-08</td>\n",
       "      <td>965</td>\n",
       "      <td>0</td>\n",
       "      <td>6</td>\n",
       "      <td>2</td>\n",
       "      <td>2011</td>\n",
       "      <td>1</td>\n",
       "      <td>8</td>\n",
       "      <td>0</td>\n",
       "    </tr>\n",
       "    <tr>\n",
       "      <th>1</th>\n",
       "      <td>2011-05-31</td>\n",
       "      <td>1724</td>\n",
       "      <td>0</td>\n",
       "      <td>3</td>\n",
       "      <td>108</td>\n",
       "      <td>2011</td>\n",
       "      <td>5</td>\n",
       "      <td>31</td>\n",
       "      <td>143</td>\n",
       "    </tr>\n",
       "    <tr>\n",
       "      <th>2</th>\n",
       "      <td>2011-06-24</td>\n",
       "      <td>1521</td>\n",
       "      <td>3</td>\n",
       "      <td>19</td>\n",
       "      <td>92000</td>\n",
       "      <td>2011</td>\n",
       "      <td>6</td>\n",
       "      <td>24</td>\n",
       "      <td>167</td>\n",
       "    </tr>\n",
       "    <tr>\n",
       "      <th>3</th>\n",
       "      <td>2011-09-02</td>\n",
       "      <td>1507</td>\n",
       "      <td>1</td>\n",
       "      <td>19</td>\n",
       "      <td>1250</td>\n",
       "      <td>2011</td>\n",
       "      <td>9</td>\n",
       "      <td>2</td>\n",
       "      <td>237</td>\n",
       "    </tr>\n",
       "    <tr>\n",
       "      <th>4</th>\n",
       "      <td>2011-09-27</td>\n",
       "      <td>608</td>\n",
       "      <td>1</td>\n",
       "      <td>1</td>\n",
       "      <td>5</td>\n",
       "      <td>2011</td>\n",
       "      <td>9</td>\n",
       "      <td>27</td>\n",
       "      <td>262</td>\n",
       "    </tr>\n",
       "  </tbody>\n",
       "</table>\n",
       "</div>"
      ],
      "text/plain": [
       "        Date  Product_Code  Warehouse  Product_Category  Order_Demand  year  \\\n",
       "0 2011-01-08           965          0                 6             2  2011   \n",
       "1 2011-05-31          1724          0                 3           108  2011   \n",
       "2 2011-06-24          1521          3                19         92000  2011   \n",
       "3 2011-09-02          1507          1                19          1250  2011   \n",
       "4 2011-09-27           608          1                 1             5  2011   \n",
       "\n",
       "   month  day  daysSinceFirst  \n",
       "0      1    8               0  \n",
       "1      5   31             143  \n",
       "2      6   24             167  \n",
       "3      9    2             237  \n",
       "4      9   27             262  "
      ]
     },
     "execution_count": 6,
     "metadata": {},
     "output_type": "execute_result"
    }
   ],
   "source": [
    "import datetime\n",
    "original['year'] = pd.DatetimeIndex(original['Date']).year\n",
    "original['month'] = pd.DatetimeIndex(original['Date']).month\n",
    "original['day'] = pd.DatetimeIndex(original['Date']).day\n",
    "\n",
    "date = original.iloc[0]['Date']\n",
    "original['daysSinceFirst'] = (original['Date'] - date).dt.days\n",
    "original['Product_Code'] = original['Product_Code'].replace('[Product_]', '', regex=True).astype('int') \n",
    "original['Product_Category'] = original['Product_Category'].replace('[Category_]', '', regex=True).astype('int')  \n",
    "\n",
    "\n",
    "from sklearn import preprocessing\n",
    "# Create a label (category) encoder object\n",
    "le = preprocessing.LabelEncoder()\n",
    "# Fit the encoder to the pandas column\n",
    "le.fit(original['Warehouse'])\n",
    "original['Warehouse'] = le.transform(original['Warehouse'])\n",
    "\n",
    "original.head()"
   ]
  },
  {
   "cell_type": "code",
   "execution_count": null,
   "metadata": {},
   "outputs": [],
   "source": [
    "Y = original['Order_Demand']\n",
    "X = original[['year', 'month', 'day', 'daysSinceFirst', 'Product_Category', 'Warehouse', 'Product_Code']]"
   ]
  },
  {
   "cell_type": "code",
   "execution_count": null,
   "metadata": {},
   "outputs": [],
   "source": []
  },
  {
   "cell_type": "code",
   "execution_count": null,
   "metadata": {},
   "outputs": [],
   "source": []
  },
  {
   "cell_type": "code",
   "execution_count": null,
   "metadata": {},
   "outputs": [],
   "source": []
  },
  {
   "cell_type": "markdown",
   "metadata": {},
   "source": [
    "Below we will split the data 80/20 into testing and training data. First, we have to separate the Y (Order_Demand) with everything else."
   ]
  },
  {
   "cell_type": "code",
   "execution_count": 7,
   "metadata": {},
   "outputs": [
    {
     "name": "stdout",
     "output_type": "stream",
     "text": [
      "X_test: \n",
      "        year  month  day  daysSinceFirst  Product_Category  Warehouse  \\\n",
      "239066  2013     11   29            1056                 7          1   \n",
      "196078  2013      8    5             940                 1          1   \n",
      "484689  2015     10    9            1735                24          0   \n",
      "59632   2012      6   25             534                19          0   \n",
      "489623  2015     10   23            1749                15          2   \n",
      "\n",
      "        Product_Code  \n",
      "239066           202  \n",
      "196078           610  \n",
      "484689          1053  \n",
      "59632            421  \n",
      "489623           453  \n",
      "Y_test: \n",
      "239066    3000\n",
      "196078      88\n",
      "484689      40\n",
      "59632      300\n",
      "489623       4\n",
      "Name: Order_Demand, dtype: int64\n"
     ]
    }
   ],
   "source": [
    "from sklearn.model_selection import train_test_split\n",
    "\n",
    "Y = original['Order_Demand']\n",
    "X = original[['year', 'month', 'day', 'daysSinceFirst', 'Product_Category', 'Warehouse', 'Product_Code']]\n",
    "\n",
    "#80/20 split for train and test data\n",
    "X_train, X_test, Y_train, Y_test = train_test_split(X, Y, random_state=1, test_size = .2)\n",
    "\n",
    "print(\"X_test: \")\n",
    "print(X_train.head())\n",
    "\n",
    "print(\"Y_test: \")\n",
    "print(Y_train.head())"
   ]
  },
  {
   "cell_type": "markdown",
   "metadata": {},
   "source": [
    "Next we will train a basic linear regression model. I don't expect this to do well, however it provides a simple baseline to start."
   ]
  },
  {
   "cell_type": "code",
   "execution_count": 8,
   "metadata": {},
   "outputs": [
    {
     "data": {
      "text/plain": [
       "LinearRegression(copy_X=True, fit_intercept=True, n_jobs=None, normalize=False)"
      ]
     },
     "execution_count": 8,
     "metadata": {},
     "output_type": "execute_result"
    }
   ],
   "source": [
    "from sklearn import datasets, linear_model\n",
    "from sklearn.metrics import mean_squared_error, r2_score\n",
    "\n",
    "#train model\n",
    "# Create linear regression object\n",
    "regr = linear_model.LinearRegression()\n",
    "\n",
    "# Train the model using the training sets\n",
    "regr.fit(X_train, Y_train)"
   ]
  },
  {
   "cell_type": "code",
   "execution_count": 9,
   "metadata": {},
   "outputs": [
    {
     "name": "stdout",
     "output_type": "stream",
     "text": [
      "R^2 Coefficient:\n",
      "0.008777673197833624\n"
     ]
    }
   ],
   "source": [
    "# Make predictions using the testing set\n",
    "y_pred_linear = regr.predict(X_test)\n",
    "\n",
    "predx= regr.score(X_test, Y_test)\n",
    "print(\"R^2 Coefficient:\")\n",
    "print(predx)"
   ]
  },
  {
   "cell_type": "markdown",
   "metadata": {},
   "source": [
    "An R^2 value of 1 would be a perfect predictor, so this is not very strong. Let's try a different model. Now a gradient boosting classifier with several different learning rates."
   ]
  },
  {
   "cell_type": "code",
   "execution_count": 10,
   "metadata": {},
   "outputs": [
    {
     "name": "stdout",
     "output_type": "stream",
     "text": [
      "Learning rate:  0.05\n",
      "Accuracy score (training): 0.060\n",
      "Accuracy score (validation): 0.059\n",
      " \n",
      "Learning rate:  0.075\n",
      "Accuracy score (training): 0.073\n",
      "Accuracy score (validation): 0.071\n",
      " \n",
      "Learning rate:  0.1\n",
      "Accuracy score (training): 0.100\n",
      "Accuracy score (validation): 0.098\n",
      " \n",
      "Learning rate:  0.25\n",
      "Accuracy score (training): 0.175\n",
      "Accuracy score (validation): 0.174\n",
      " \n",
      "Learning rate:  0.5\n",
      "Accuracy score (training): 0.255\n",
      "Accuracy score (validation): 0.254\n",
      " \n",
      "Learning rate:  0.75\n",
      "Accuracy score (training): 0.281\n",
      "Accuracy score (validation): 0.282\n",
      " \n",
      "Learning rate:  1\n",
      "Accuracy score (training): 0.306\n",
      "Accuracy score (validation): 0.308\n",
      " \n"
     ]
    }
   ],
   "source": [
    "from sklearn.ensemble import GradientBoostingRegressor\n",
    "\n",
    "lr_list = [0.05, 0.075, 0.1, 0.25, 0.5, 0.75, 1]\n",
    "\n",
    "for learning_rate in lr_list:\n",
    "    gb_clf = GradientBoostingRegressor(learning_rate=learning_rate, max_features=2, max_depth=2, random_state=0)\n",
    "    gb_clf.fit(X_train, Y_train)\n",
    "\n",
    "    if (learning_rate == 1):\n",
    "        predictionGBR = gb_clf.predict(X_test)\n",
    "        \n",
    "    print(\"Learning rate: \", learning_rate)\n",
    "    print(\"Accuracy score (training): {0:.3f}\".format(gb_clf.score(X_train, Y_train)))\n",
    "    print(\"Accuracy score (validation): {0:.3f}\".format(gb_clf.score(X_test, Y_test)))\n",
    "    print(' ')"
   ]
  },
  {
   "cell_type": "code",
   "execution_count": 11,
   "metadata": {},
   "outputs": [
    {
     "data": {
      "image/png": "[encoded data removed]",
      "text/plain": [
       "<Figure size 432x288 with 1 Axes>"
      ]
     },
     "metadata": {
      "needs_background": "light"
     },
     "output_type": "display_data"
    }
   ],
   "source": [
    "predGBR = pd.DataFrame(data=predictionGBR.flatten())\n",
    "\n",
    "fig, ax = plt.subplots()\n",
    "ax.scatter(Y_test, predGBR)\n",
    "ax.plot([Y_test.min(), Y_test.max()], [Y_test.min(), Y_test.max()], 'k--', lw=4)\n",
    "ax.set_xlabel('Measured')\n",
    "ax.set_ylabel('Predicted')\n",
    "plt.show()"
   ]
  },
  {
   "cell_type": "markdown",
   "metadata": {},
   "source": [
    "The learning rate of 1 has respectable performance. The accuracy score (validation) is the primary measure of success - this is the R^2 value, with 1 being optimal."
   ]
  },
  {
   "cell_type": "markdown",
   "metadata": {},
   "source": [
    "I hypothesize that it might be better to predict by product and ignore many of the datasets which are simply impossible to predict (i.e. a single spike or similar). One way to bin these quantitatively is to train a model for each product, then select the best performing ones. However, this is highly inefficient and time consuming. Therefore, we can proxy this by hypothesizing that we will be able to best predict order_demand for products which have a low standard-deviation to mean ratio, also known as the coefficient of variation. In the real world, we'd want to ignore products that have below a certain amount of orders shipped (if they shipped on under 100 days for example, ignore that product). For now, due to the 10-hour rule, we will simply inspect a couple to generate models on."
   ]
  },
  {
   "cell_type": "code",
   "execution_count": 12,
   "metadata": {},
   "outputs": [
    {
     "data": {
      "text/html": [
       "<div>\n",
       "<style scoped>\n",
       "    .dataframe tbody tr th:only-of-type {\n",
       "        vertical-align: middle;\n",
       "    }\n",
       "\n",
       "    .dataframe tbody tr th {\n",
       "        vertical-align: top;\n",
       "    }\n",
       "\n",
       "    .dataframe thead th {\n",
       "        text-align: right;\n",
       "    }\n",
       "</style>\n",
       "<table border=\"1\" class=\"dataframe\">\n",
       "  <thead>\n",
       "    <tr style=\"text-align: right;\">\n",
       "      <th></th>\n",
       "      <th>Product_Code</th>\n",
       "      <th>ratio</th>\n",
       "    </tr>\n",
       "  </thead>\n",
       "  <tbody>\n",
       "    <tr>\n",
       "      <th>1687</th>\n",
       "      <td>1698</td>\n",
       "      <td>0.000000</td>\n",
       "    </tr>\n",
       "    <tr>\n",
       "      <th>1037</th>\n",
       "      <td>1048</td>\n",
       "      <td>0.096328</td>\n",
       "    </tr>\n",
       "    <tr>\n",
       "      <th>1306</th>\n",
       "      <td>1317</td>\n",
       "      <td>0.124935</td>\n",
       "    </tr>\n",
       "    <tr>\n",
       "      <th>1568</th>\n",
       "      <td>1579</td>\n",
       "      <td>0.134697</td>\n",
       "    </tr>\n",
       "    <tr>\n",
       "      <th>2029</th>\n",
       "      <td>2042</td>\n",
       "      <td>0.174331</td>\n",
       "    </tr>\n",
       "    <tr>\n",
       "      <th>2031</th>\n",
       "      <td>2044</td>\n",
       "      <td>0.176170</td>\n",
       "    </tr>\n",
       "    <tr>\n",
       "      <th>66</th>\n",
       "      <td>67</td>\n",
       "      <td>0.177924</td>\n",
       "    </tr>\n",
       "    <tr>\n",
       "      <th>2034</th>\n",
       "      <td>2047</td>\n",
       "      <td>0.193542</td>\n",
       "    </tr>\n",
       "    <tr>\n",
       "      <th>1351</th>\n",
       "      <td>1362</td>\n",
       "      <td>0.214270</td>\n",
       "    </tr>\n",
       "    <tr>\n",
       "      <th>2035</th>\n",
       "      <td>2048</td>\n",
       "      <td>0.230050</td>\n",
       "    </tr>\n",
       "    <tr>\n",
       "      <th>2030</th>\n",
       "      <td>2043</td>\n",
       "      <td>0.242655</td>\n",
       "    </tr>\n",
       "    <tr>\n",
       "      <th>359</th>\n",
       "      <td>360</td>\n",
       "      <td>0.274145</td>\n",
       "    </tr>\n",
       "    <tr>\n",
       "      <th>2021</th>\n",
       "      <td>2033</td>\n",
       "      <td>0.288394</td>\n",
       "    </tr>\n",
       "    <tr>\n",
       "      <th>361</th>\n",
       "      <td>362</td>\n",
       "      <td>0.304931</td>\n",
       "    </tr>\n",
       "    <tr>\n",
       "      <th>467</th>\n",
       "      <td>468</td>\n",
       "      <td>0.313155</td>\n",
       "    </tr>\n",
       "    <tr>\n",
       "      <th>357</th>\n",
       "      <td>358</td>\n",
       "      <td>0.326426</td>\n",
       "    </tr>\n",
       "    <tr>\n",
       "      <th>2032</th>\n",
       "      <td>2045</td>\n",
       "      <td>0.327073</td>\n",
       "    </tr>\n",
       "    <tr>\n",
       "      <th>2033</th>\n",
       "      <td>2046</td>\n",
       "      <td>0.328428</td>\n",
       "    </tr>\n",
       "    <tr>\n",
       "      <th>632</th>\n",
       "      <td>633</td>\n",
       "      <td>0.330138</td>\n",
       "    </tr>\n",
       "    <tr>\n",
       "      <th>1721</th>\n",
       "      <td>1732</td>\n",
       "      <td>0.348093</td>\n",
       "    </tr>\n",
       "    <tr>\n",
       "      <th>923</th>\n",
       "      <td>934</td>\n",
       "      <td>0.369212</td>\n",
       "    </tr>\n",
       "    <tr>\n",
       "      <th>1962</th>\n",
       "      <td>1974</td>\n",
       "      <td>0.387616</td>\n",
       "    </tr>\n",
       "    <tr>\n",
       "      <th>698</th>\n",
       "      <td>699</td>\n",
       "      <td>0.387843</td>\n",
       "    </tr>\n",
       "    <tr>\n",
       "      <th>54</th>\n",
       "      <td>55</td>\n",
       "      <td>0.396335</td>\n",
       "    </tr>\n",
       "    <tr>\n",
       "      <th>1595</th>\n",
       "      <td>1606</td>\n",
       "      <td>0.398410</td>\n",
       "    </tr>\n",
       "    <tr>\n",
       "      <th>1604</th>\n",
       "      <td>1615</td>\n",
       "      <td>0.409278</td>\n",
       "    </tr>\n",
       "    <tr>\n",
       "      <th>600</th>\n",
       "      <td>601</td>\n",
       "      <td>0.412084</td>\n",
       "    </tr>\n",
       "    <tr>\n",
       "      <th>508</th>\n",
       "      <td>509</td>\n",
       "      <td>0.418968</td>\n",
       "    </tr>\n",
       "    <tr>\n",
       "      <th>1033</th>\n",
       "      <td>1044</td>\n",
       "      <td>0.419277</td>\n",
       "    </tr>\n",
       "    <tr>\n",
       "      <th>52</th>\n",
       "      <td>53</td>\n",
       "      <td>0.423437</td>\n",
       "    </tr>\n",
       "    <tr>\n",
       "      <th>1785</th>\n",
       "      <td>1796</td>\n",
       "      <td>0.425552</td>\n",
       "    </tr>\n",
       "    <tr>\n",
       "      <th>852</th>\n",
       "      <td>863</td>\n",
       "      <td>0.426517</td>\n",
       "    </tr>\n",
       "    <tr>\n",
       "      <th>856</th>\n",
       "      <td>867</td>\n",
       "      <td>0.427458</td>\n",
       "    </tr>\n",
       "    <tr>\n",
       "      <th>1769</th>\n",
       "      <td>1780</td>\n",
       "      <td>0.449050</td>\n",
       "    </tr>\n",
       "    <tr>\n",
       "      <th>1085</th>\n",
       "      <td>1096</td>\n",
       "      <td>0.451043</td>\n",
       "    </tr>\n",
       "    <tr>\n",
       "      <th>696</th>\n",
       "      <td>697</td>\n",
       "      <td>0.455632</td>\n",
       "    </tr>\n",
       "    <tr>\n",
       "      <th>1771</th>\n",
       "      <td>1782</td>\n",
       "      <td>0.457424</td>\n",
       "    </tr>\n",
       "    <tr>\n",
       "      <th>1435</th>\n",
       "      <td>1446</td>\n",
       "      <td>0.459037</td>\n",
       "    </tr>\n",
       "    <tr>\n",
       "      <th>697</th>\n",
       "      <td>698</td>\n",
       "      <td>0.461925</td>\n",
       "    </tr>\n",
       "    <tr>\n",
       "      <th>809</th>\n",
       "      <td>810</td>\n",
       "      <td>0.466374</td>\n",
       "    </tr>\n",
       "    <tr>\n",
       "      <th>113</th>\n",
       "      <td>114</td>\n",
       "      <td>0.467707</td>\n",
       "    </tr>\n",
       "    <tr>\n",
       "      <th>1209</th>\n",
       "      <td>1220</td>\n",
       "      <td>0.475995</td>\n",
       "    </tr>\n",
       "    <tr>\n",
       "      <th>1088</th>\n",
       "      <td>1099</td>\n",
       "      <td>0.476402</td>\n",
       "    </tr>\n",
       "    <tr>\n",
       "      <th>1913</th>\n",
       "      <td>1925</td>\n",
       "      <td>0.485622</td>\n",
       "    </tr>\n",
       "    <tr>\n",
       "      <th>578</th>\n",
       "      <td>579</td>\n",
       "      <td>0.487249</td>\n",
       "    </tr>\n",
       "    <tr>\n",
       "      <th>735</th>\n",
       "      <td>736</td>\n",
       "      <td>0.490073</td>\n",
       "    </tr>\n",
       "    <tr>\n",
       "      <th>695</th>\n",
       "      <td>696</td>\n",
       "      <td>0.490364</td>\n",
       "    </tr>\n",
       "    <tr>\n",
       "      <th>2047</th>\n",
       "      <td>2060</td>\n",
       "      <td>0.491084</td>\n",
       "    </tr>\n",
       "    <tr>\n",
       "      <th>1513</th>\n",
       "      <td>1524</td>\n",
       "      <td>0.494007</td>\n",
       "    </tr>\n",
       "    <tr>\n",
       "      <th>1686</th>\n",
       "      <td>1697</td>\n",
       "      <td>0.501368</td>\n",
       "    </tr>\n",
       "  </tbody>\n",
       "</table>\n",
       "</div>"
      ],
      "text/plain": [
       "      Product_Code     ratio\n",
       "1687          1698  0.000000\n",
       "1037          1048  0.096328\n",
       "1306          1317  0.124935\n",
       "1568          1579  0.134697\n",
       "2029          2042  0.174331\n",
       "2031          2044  0.176170\n",
       "66              67  0.177924\n",
       "2034          2047  0.193542\n",
       "1351          1362  0.214270\n",
       "2035          2048  0.230050\n",
       "2030          2043  0.242655\n",
       "359            360  0.274145\n",
       "2021          2033  0.288394\n",
       "361            362  0.304931\n",
       "467            468  0.313155\n",
       "357            358  0.326426\n",
       "2032          2045  0.327073\n",
       "2033          2046  0.328428\n",
       "632            633  0.330138\n",
       "1721          1732  0.348093\n",
       "923            934  0.369212\n",
       "1962          1974  0.387616\n",
       "698            699  0.387843\n",
       "54              55  0.396335\n",
       "1595          1606  0.398410\n",
       "1604          1615  0.409278\n",
       "600            601  0.412084\n",
       "508            509  0.418968\n",
       "1033          1044  0.419277\n",
       "52              53  0.423437\n",
       "1785          1796  0.425552\n",
       "852            863  0.426517\n",
       "856            867  0.427458\n",
       "1769          1780  0.449050\n",
       "1085          1096  0.451043\n",
       "696            697  0.455632\n",
       "1771          1782  0.457424\n",
       "1435          1446  0.459037\n",
       "697            698  0.461925\n",
       "809            810  0.466374\n",
       "113            114  0.467707\n",
       "1209          1220  0.475995\n",
       "1088          1099  0.476402\n",
       "1913          1925  0.485622\n",
       "578            579  0.487249\n",
       "735            736  0.490073\n",
       "695            696  0.490364\n",
       "2047          2060  0.491084\n",
       "1513          1524  0.494007\n",
       "1686          1697  0.501368"
      ]
     },
     "execution_count": 12,
     "metadata": {},
     "output_type": "execute_result"
    }
   ],
   "source": [
    "means = original.groupby(['Product_Code'])['Order_Demand'].mean().reset_index()\n",
    "stdevs = original.groupby(['Product_Code'])['Order_Demand'].std().reset_index()\n",
    "\n",
    "ratio = pd.DataFrame(columns=['Product_Code', 'ratio'])\n",
    "ratio['Product_Code'] = stdevs['Product_Code']\n",
    "ratio['ratio'] = stdevs['Order_Demand'] / means['Order_Demand']\n",
    "\n",
    "#sort by ratio\n",
    "ratio.sort_values(['ratio'], inplace=True)\n",
    "\n",
    "ratio.head(50)\n"
   ]
  },
  {
   "cell_type": "markdown",
   "metadata": {},
   "source": [
    "Now that we have the products with the lowest coefficient of variation, let's plot a few of them. We want to find a couple that ship orders on quite a few dates, which we will do by inspection here."
   ]
  },
  {
   "cell_type": "code",
   "execution_count": 13,
   "metadata": {},
   "outputs": [
    {
     "data": {
      "image/png": "[encoded data removed]",
      "text/plain": [
       "<Figure size 432x288 with 1 Axes>"
      ]
     },
     "metadata": {
      "needs_background": "light"
     },
     "output_type": "display_data"
    }
   ],
   "source": [
    "byProd = original.groupby(['Date', 'Product_Code', 'year', 'month', 'day', 'daysSinceFirst'])['Order_Demand'].sum().reset_index()\n",
    "\n",
    "is1686 = byProd['Product_Code'] == 1686\n",
    "prod1 = byProd[is1686]\n",
    "prod1X = prod1['Date']\n",
    "prod1Y = prod1['Order_Demand']\n",
    "\n",
    "# Data for plotting\n",
    "\n",
    "fig, ax = plt.subplots()\n",
    "ax.plot(prod1X, prod1Y)\n",
    "\n",
    "ax.set(xlabel='Date', ylabel='Total Units Sold',\n",
    "       title='Product 1686 Orders')\n",
    "ax.grid()\n",
    "plt.show()"
   ]
  },
  {
   "cell_type": "code",
   "execution_count": 14,
   "metadata": {},
   "outputs": [
    {
     "data": {
      "image/png": "[encoded data removed]",
      "text/plain": [
       "<Figure size 432x288 with 1 Axes>"
      ]
     },
     "metadata": {
      "needs_background": "light"
     },
     "output_type": "display_data"
    }
   ],
   "source": [
    "is1513 = byProd['Product_Code'] == 1513\n",
    "prod2 = byProd[is1513]\n",
    "prod2X = prod2['Date']\n",
    "prod2Y = prod2['Order_Demand']\n",
    "\n",
    "# Data for plotting\n",
    "\n",
    "fig, ax = plt.subplots()\n",
    "ax.plot(prod2X, prod2Y)\n",
    "\n",
    "ax.set(xlabel='Date', ylabel='Total Units Sold',\n",
    "       title='Product 1513 Orders')\n",
    "ax.grid()\n",
    "plt.show()"
   ]
  },
  {
   "cell_type": "markdown",
   "metadata": {},
   "source": [
    "These two only have a few outliers, so we may be able to predict them with higher accuracy. Let's see, using the gradient boosting classifier used earlier."
   ]
  },
  {
   "cell_type": "code",
   "execution_count": 15,
   "metadata": {},
   "outputs": [],
   "source": [
    "#prepare data\n",
    "\n",
    "Y1 = prod1['Order_Demand']\n",
    "X1 = prod1[['year', 'month', 'day', 'daysSinceFirst']]\n",
    "\n",
    "#80/20 split for train and test data\n",
    "X1_train, X1_test, Y1_train, Y1_test = train_test_split(X1, Y1, random_state=1, test_size = .2)\n",
    "\n",
    "Y2 = prod2['Order_Demand']\n",
    "X2 = prod2[['year', 'month', 'day', 'daysSinceFirst']]\n",
    "\n",
    "#80/20 split for train and test data\n",
    "X2_train, X2_test, Y2_train, Y2_test = train_test_split(X2, Y2, random_state=1, test_size = .2)"
   ]
  },
  {
   "cell_type": "code",
   "execution_count": 16,
   "metadata": {},
   "outputs": [
    {
     "name": "stdout",
     "output_type": "stream",
     "text": [
      "Learning rate:  0.05\n",
      "Accuracy score (training): 0.576\n",
      "Accuracy score (validation): -1.253\n",
      " \n",
      "Learning rate:  0.075\n",
      "Accuracy score (training): 0.699\n",
      "Accuracy score (validation): -1.608\n",
      " \n",
      "Learning rate:  0.1\n",
      "Accuracy score (training): 0.766\n",
      "Accuracy score (validation): -2.171\n",
      " \n",
      "Learning rate:  0.25\n",
      "Accuracy score (training): 0.958\n",
      "Accuracy score (validation): -2.186\n",
      " \n",
      "Learning rate:  0.5\n",
      "Accuracy score (training): 0.995\n",
      "Accuracy score (validation): -3.418\n",
      " \n",
      "Learning rate:  0.75\n",
      "Accuracy score (training): 0.999\n",
      "Accuracy score (validation): -4.211\n",
      " \n",
      "Learning rate:  1\n",
      "Accuracy score (training): 1.000\n",
      "Accuracy score (validation): -2.155\n",
      " \n"
     ]
    }
   ],
   "source": [
    "#Run it for the first product: Product 1686\n",
    "\n",
    "lr_list = [0.05, 0.075, 0.1, 0.25, 0.5, 0.75, 1]\n",
    "\n",
    "\n",
    "for learning_rate in lr_list:\n",
    "    gb_clf = GradientBoostingRegressor(learning_rate=learning_rate, random_state=0)\n",
    "    gb_clf.fit(X1_train, Y1_train)\n",
    "    \n",
    "    if (learning_rate == .05): \n",
    "        prediction = gb_clf.predict(X1_test)\n",
    "        \n",
    "\n",
    "    print(\"Learning rate: \", learning_rate)\n",
    "    print(\"Accuracy score (training): {0:.3f}\".format(gb_clf.score(X1_train, Y1_train)))\n",
    "    print(\"Accuracy score (validation): {0:.3f}\".format(gb_clf.score(X1_test, Y1_test)))\n",
    "    print(' ')\n",
    "    "
   ]
  },
  {
   "cell_type": "markdown",
   "metadata": {},
   "source": [
    "This doesn't look spectacular from the validation accuracy score, but let's visualize it. We will use the learning rate of .05 because that preduced the highest accuracy score."
   ]
  },
  {
   "cell_type": "code",
   "execution_count": 17,
   "metadata": {},
   "outputs": [
    {
     "data": {
      "image/png": "[encoded data removed]",
      "text/plain": [
       "<Figure size 432x288 with 1 Axes>"
      ]
     },
     "metadata": {
      "needs_background": "light"
     },
     "output_type": "display_data"
    }
   ],
   "source": [
    "pred1 = pd.DataFrame(data=prediction.flatten())\n",
    "\n",
    "fig, ax = plt.subplots()\n",
    "ax.scatter(Y1_test, pred1)\n",
    "ax.plot([Y1_test.min(), Y1_test.max()], [Y1_test.min(), Y1_test.max()], 'k--', lw=4)\n",
    "ax.set_xlabel('Measured')\n",
    "ax.set_ylabel('Predicted')\n",
    "plt.show()"
   ]
  },
  {
   "cell_type": "code",
   "execution_count": 18,
   "metadata": {},
   "outputs": [
    {
     "name": "stdout",
     "output_type": "stream",
     "text": [
      "Learning rate:  0.05\n",
      "Accuracy score (training): 0.268\n",
      "Accuracy score (validation): -0.119\n",
      " \n",
      "Learning rate:  0.075\n",
      "Accuracy score (training): 0.340\n",
      "Accuracy score (validation): -0.132\n",
      " \n",
      "Learning rate:  0.1\n",
      "Accuracy score (training): 0.400\n",
      "Accuracy score (validation): -0.205\n",
      " \n"
     ]
    }
   ],
   "source": [
    "#Run it for the second product: Product 1513\n",
    "\n",
    "lr_list = [0.05, 0.075, 0.1]\n",
    "\n",
    "for learning_rate in lr_list:\n",
    "    gb_clf = GradientBoostingRegressor(learning_rate=learning_rate, random_state=0)\n",
    "    gb_clf.fit(X2_train, Y2_train)\n",
    "    \n",
    "    if (learning_rate == .05): \n",
    "        prediction2 = gb_clf.predict(X2_test)\n",
    "\n",
    "\n",
    "    print(\"Learning rate: \", learning_rate)\n",
    "    print(\"Accuracy score (training): {0:.3f}\".format(gb_clf.score(X2_train, Y2_train)))\n",
    "    print(\"Accuracy score (validation): {0:.3f}\".format(gb_clf.score(X2_test, Y2_test)))\n",
    "    print(' ')"
   ]
  },
  {
   "cell_type": "code",
   "execution_count": 19,
   "metadata": {},
   "outputs": [
    {
     "data": {
      "image/png": "[encoded data removed]",
      "text/plain": [
       "<Figure size 432x288 with 1 Axes>"
      ]
     },
     "metadata": {
      "needs_background": "light"
     },
     "output_type": "display_data"
    }
   ],
   "source": [
    "pred2 = pd.DataFrame(data=prediction2.flatten())\n",
    "\n",
    "fig, ax = plt.subplots()\n",
    "ax.scatter(Y2_test, pred2)\n",
    "ax.plot([Y2_test.min(), Y2_test.max()], [Y2_test.min(), Y2_test.max()], 'k--', lw=4)\n",
    "ax.set_xlabel('Measured')\n",
    "ax.set_ylabel('Predicted')\n",
    "plt.show()"
   ]
  },
  {
   "cell_type": "markdown",
   "metadata": {},
   "source": [
    "These charts reveal the subpar accuracy faced by our models in an easy-to-understand way. I have two hypotheses for why these turned out the way they did. One is that the datasets are fairly small. Product 1686 (the first one) had 274 samples before splitting the data 80 / 20. Product 1513 (the second) had 1,184. These are far below the desired 10,000 number, but even if we were using the whole datat set, having only five years of data, when everything is grouped by day, the max number of datapoints could be 365 * 3 = 1826, which is insufficient. The second hypothesis is  due to the high concentration (low coefficient of variance), the graph shows that all the values are clumped together. This likely causes predictions to center around the mean, because there's a lack of data elsewhere.\n",
    "\n",
    "One reason Product 1517 could have outperformed the product 1513 model is because its extreme values were much closer to the mean, as can be seen on the graphs. "
   ]
  },
  {
   "cell_type": "markdown",
   "metadata": {},
   "source": [
    "We varied the learning rate on in the two models to see how different parameters affect the outcome. A smaller learning rate, while likely less efficient, led to higher accuracy on the single product models. However, my earlier hypothesis is false: breaking the dataset down by product did not increase accuracy. One explanation could be that product shipments are not independent of each other, so having all the products train together allows interdependence in the model.\n",
    "\n",
    "The takeaways from this project were to figure out how to get the most value out of a dataset that has a lot of ways of approaching it. Breaking it down and modifying date features helped, as we showed, but not particularly much by category. Arguably the most important part was identifying products that lacked many outliers, in a way that we could actually predict these. Although we did this mainly by inspection for the sake of time, the discussion that went with that suggested we a method for doing it at scale. And even though this didn't help us get high accuracy for the product-specific models, applying this to the model training on all products (since it performed best) may be a way to improve it further. Due to the 10 hour rule, I will leave this as an exercise for the reader."
   ]
  }
 ],
 "metadata": {
  "kernelspec": {
   "display_name": "Python 3",
   "language": "python",
   "name": "python3"
  },
  "language_info": {
   "codemirror_mode": {
    "name": "ipython",
    "version": 3
   },
   "file_extension": ".py",
   "mimetype": "text/x-python",
   "name": "python",
   "nbconvert_exporter": "python",
   "pygments_lexer": "ipython3",
   "version": "3.7.3"
  }
 },
 "nbformat": 4,
 "nbformat_minor": 2
}
